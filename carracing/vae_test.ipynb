{
 "cells": [
  {
   "cell_type": "markdown",
   "metadata": {},
   "source": [
    "Test VAE model on random frame of random file in `record`"
   ]
  },
  {
   "cell_type": "code",
   "execution_count": 1,
   "metadata": {},
   "outputs": [
    {
     "name": "stderr",
     "output_type": "stream",
     "text": [
      "/Users/megumisano/anaconda/lib/python3.6/site-packages/tensorflow/python/framework/ops.py:923: DeprecationWarning: builtin type EagerTensor has no __module__ attribute\n",
      "  EagerTensor = c_api.TFE_Py_InitEagerTensor(_EagerTensorBase)\n",
      "/Users/megumisano/anaconda/lib/python3.6/site-packages/tensorflow/python/util/tf_inspect.py:75: DeprecationWarning: inspect.getargspec() is deprecated since Python 3.0, use inspect.signature() or inspect.getfullargspec()\n",
      "  return _inspect.getargspec(target)\n",
      "/Users/megumisano/anaconda/lib/python3.6/importlib/_bootstrap.py:219: ImportWarning: can't resolve package from __spec__ or __package__, falling back on __name__ and __path__\n",
      "  return f(*args, **kwds)\n",
      "/Users/megumisano/anaconda/lib/python3.6/site-packages/tensorflow/python/keras/backend.py:4785: ResourceWarning: unclosed file <_io.TextIOWrapper name='/Users/megumisano/.keras/keras.json' mode='r' encoding='UTF-8'>\n",
      "  _config = json.load(open(_config_path))\n",
      "/Users/megumisano/anaconda/lib/python3.6/site-packages/h5py/__init__.py:34: FutureWarning: Conversion of the second argument of issubdtype from `float` to `np.floating` is deprecated. In future, it will be treated as `np.float64 == np.dtype(float).type`.\n",
      "  from ._conv import register_converters as _register_converters\n",
      "/Users/megumisano/anaconda/lib/python3.6/importlib/_bootstrap.py:219: ImportWarning: can't resolve package from __spec__ or __package__, falling back on __name__ and __path__\n",
      "  return f(*args, **kwds)\n",
      "/Users/megumisano/anaconda/lib/python3.6/importlib/_bootstrap.py:219: ImportWarning: can't resolve package from __spec__ or __package__, falling back on __name__ and __path__\n",
      "  return f(*args, **kwds)\n"
     ]
    }
   ],
   "source": [
    "import numpy as np\n",
    "import os\n",
    "import json\n",
    "import tensorflow as tf\n",
    "import random\n",
    "from vae.vae import ConvVAE, reset_graph"
   ]
  },
  {
   "cell_type": "code",
   "execution_count": 2,
   "metadata": {
    "collapsed": true
   },
   "outputs": [],
   "source": [
    "import matplotlib.pyplot as plt\n",
    "np.set_printoptions(precision=4, edgeitems=6, linewidth=100, suppress=True)"
   ]
  },
  {
   "cell_type": "code",
   "execution_count": 29,
   "metadata": {
    "collapsed": true
   },
   "outputs": [],
   "source": [
    "os.environ[\"CUDA_VISIBLE_DEVICES\"]=\"-1\" # disable GPU\n",
    "\n",
    "DATA_DIR = \"record\"\n",
    "model_path_name = \"vae\"\n",
    "\n",
    "z_size=32\n",
    "\n",
    "split = int(0.8 * 200)"
   ]
  },
  {
   "cell_type": "code",
   "execution_count": 27,
   "metadata": {
    "collapsed": true
   },
   "outputs": [],
   "source": [
    "filelist = os.listdir(DATA_DIR)"
   ]
  },
  {
   "cell_type": "code",
   "execution_count": 30,
   "metadata": {},
   "outputs": [],
   "source": [
    "obs = np.load(os.path.join(DATA_DIR, random.choice(filelist[split:])))[\"obs\"] # 160 because test \n",
    "obs = obs.astype(np.float32)/255.0"
   ]
  },
  {
   "cell_type": "code",
   "execution_count": 31,
   "metadata": {},
   "outputs": [
    {
     "data": {
      "text/plain": [
       "(1000, 64, 64, 3)"
      ]
     },
     "execution_count": 31,
     "metadata": {},
     "output_type": "execute_result"
    }
   ],
   "source": [
    "obs.shape"
   ]
  },
  {
   "cell_type": "code",
   "execution_count": null,
   "metadata": {
    "collapsed": true
   },
   "outputs": [],
   "source": []
  },
  {
   "cell_type": "markdown",
   "metadata": {},
   "source": [
    "### Loading pretrained VAE, retrained VAE, and ResNet50 "
   ]
  },
  {
   "cell_type": "code",
   "execution_count": 36,
   "metadata": {},
   "outputs": [
    {
     "name": "stdout",
     "output_type": "stream",
     "text": [
      "INFO:tensorflow:Model using cpu.\n"
     ]
    }
   ],
   "source": [
    "# Pretrained VAE \n",
    "vae = ConvVAE(z_size=z_size,\n",
    "              batch_size=1,\n",
    "              is_training=False,\n",
    "              reuse=False,\n",
    "              gpu_mode=False)\n",
    "\n",
    "vae.load_json(os.path.join(model_path_name, 'vae.json'))"
   ]
  },
  {
   "cell_type": "code",
   "execution_count": null,
   "metadata": {
    "collapsed": true
   },
   "outputs": [],
   "source": [
    "# Retrained VAE \n",
    "vae_new = ConvVAE(z_size=z_size,\n",
    "              batch_size=1,\n",
    "              is_training=False,\n",
    "              reuse=False,\n",
    "              gpu_mode=False)\n",
    "\n",
    "vae_new.load_json(os.path.join('tf_vae', 'vae_new.json'))"
   ]
  },
  {
   "cell_type": "code",
   "execution_count": null,
   "metadata": {
    "collapsed": true
   },
   "outputs": [],
   "source": []
  },
  {
   "cell_type": "code",
   "execution_count": null,
   "metadata": {
    "collapsed": true
   },
   "outputs": [],
   "source": []
  },
  {
   "cell_type": "markdown",
   "metadata": {},
   "source": [
    "### Calculate reconstruction loss on test set "
   ]
  },
  {
   "cell_type": "code",
   "execution_count": null,
   "metadata": {
    "collapsed": true
   },
   "outputs": [],
   "source": [
    "# Helper function for calculating reconstruction loss \n",
    "def reconstruct_loss(x, y):\n",
    "    return np.mean(np.sum(\n",
    "          np.square(frame - reconstruct)))"
   ]
  },
  {
   "cell_type": "code",
   "execution_count": null,
   "metadata": {
    "collapsed": true
   },
   "outputs": [],
   "source": [
    "### Evaluating pretrained VAE model on reconstruction loss\n",
    "num_samples = 1000 # Evaluating on 1000 takes 3 seconds \n",
    "reconstruct_losses = []\n",
    "for i in range(num_samples):\n",
    "    frame = random.choice(obs).reshape(1, 64, 64, 3)\n",
    "    batch_z = vae.encode(frame)\n",
    "    reconstruct = vae.decode(batch_z)\n",
    "    r_loss = reconstruct_loss(frame, reconstruct)\n",
    "    reconstruct_losses.append(r_loss)"
   ]
  },
  {
   "cell_type": "code",
   "execution_count": null,
   "metadata": {
    "collapsed": true
   },
   "outputs": [],
   "source": [
    "# Pretrained VAE tested on our test set \n",
    "np.mean(reconstruct_losses)"
   ]
  },
  {
   "cell_type": "code",
   "execution_count": null,
   "metadata": {
    "collapsed": true
   },
   "outputs": [],
   "source": []
  },
  {
   "cell_type": "code",
   "execution_count": null,
   "metadata": {
    "collapsed": true
   },
   "outputs": [],
   "source": [
    "### Evaluating newly trained VAE model on reconstruction loss\n",
    "num_samples = 1000 # Evaluating on 1000 takes 3 seconds \n",
    "reconstruct_losses_new = []\n",
    "for i in range(num_samples):\n",
    "    frame = random.choice(obs).reshape(1, 64, 64, 3)\n",
    "    batch_z = vae_new.encode(frame)\n",
    "    reconstruct = vae.decode(batch_z)\n",
    "    r_loss = reconstruct_loss(frame, reconstruct)\n",
    "    reconstruct_losses_new.append(r_loss)"
   ]
  },
  {
   "cell_type": "code",
   "execution_count": null,
   "metadata": {
    "collapsed": true
   },
   "outputs": [],
   "source": [
    "# Newly trained VAE tested on our test set \n",
    "np.mean(reconstruct_losses_new)"
   ]
  },
  {
   "cell_type": "code",
   "execution_count": null,
   "metadata": {
    "collapsed": true
   },
   "outputs": [],
   "source": []
  },
  {
   "cell_type": "markdown",
   "metadata": {},
   "source": [
    "### Qualitative analysis: reconstructed frames"
   ]
  },
  {
   "cell_type": "code",
   "execution_count": null,
   "metadata": {
    "collapsed": true
   },
   "outputs": [],
   "source": [
    "# Choose a random frame \n",
    "frame = random.choice(obs).reshape(1, 64, 64, 3)"
   ]
  },
  {
   "cell_type": "code",
   "execution_count": 37,
   "metadata": {},
   "outputs": [
    {
     "data": {
      "image/png": "[encoded data removed]",
      "text/plain": [
       "<Figure size 432x288 with 1 Axes>"
      ]
     },
     "metadata": {},
     "output_type": "display_data"
    }
   ],
   "source": [
    "# show recorded frame that will be fed into the input of VAE\n",
    "plt.imshow(frame[0])\n",
    "plt.show()"
   ]
  },
  {
   "cell_type": "code",
   "execution_count": 38,
   "metadata": {},
   "outputs": [
    {
     "name": "stdout",
     "output_type": "stream",
     "text": [
      "[ 0.3072 -1.2281 -0.8871 -1.1183 -2.1771  0.5475 -1.8663  1.0542  0.9329 -0.8043  1.3638  1.3367\n",
      " -1.2456  0.1992 -0.4791 -1.6081  1.1814 -1.6358 -0.1376 -0.7271 -1.1064 -1.1683 -0.7557 -2.0557\n",
      " -0.0739 -0.6761 -0.5317  1.0099  1.6146 -0.0314  1.3391  0.8985]\n"
     ]
    }
   ],
   "source": [
    "batch_z = vae.encode(frame)\n",
    "print(batch_z[0]) # print out sampled z\n",
    "reconstruct = vae.decode(batch_z)"
   ]
  },
  {
   "cell_type": "code",
   "execution_count": 40,
   "metadata": {},
   "outputs": [
    {
     "data": {
      "image/png": "[encoded data removed]",
      "text/plain": [
       "<Figure size 432x288 with 1 Axes>"
      ]
     },
     "metadata": {},
     "output_type": "display_data"
    }
   ],
   "source": [
    "# show reconstruction\n",
    "plt.imshow(reconstruct[0])\n",
    "plt.show()"
   ]
  },
  {
   "cell_type": "code",
   "execution_count": 41,
   "metadata": {},
   "outputs": [
    {
     "data": {
      "text/plain": [
       "20.739841"
      ]
     },
     "execution_count": 41,
     "metadata": {},
     "output_type": "execute_result"
    }
   ],
   "source": [
    "reconstruct_loss(frame, reconstruct)"
   ]
  },
  {
   "cell_type": "code",
   "execution_count": null,
   "metadata": {
    "collapsed": true
   },
   "outputs": [],
   "source": []
  },
  {
   "cell_type": "code",
   "execution_count": null,
   "metadata": {},
   "outputs": [],
   "source": []
  },
  {
   "cell_type": "code",
   "execution_count": null,
   "metadata": {
    "collapsed": true
   },
   "outputs": [],
   "source": []
  },
  {
   "cell_type": "code",
   "execution_count": null,
   "metadata": {
    "collapsed": true
   },
   "outputs": [],
   "source": [
    "## MISC "
   ]
  },
  {
   "cell_type": "code",
   "execution_count": 47,
   "metadata": {},
   "outputs": [],
   "source": [
    "### Evaluating pretrained VAE model on reconstruction loss\n",
    "num_samples = 1000 # Evaluating on 1000 takes 3 seconds \n",
    "reconstruct_losses = []\n",
    "for i in range(num_samples):\n",
    "    frame = random.choice(obs).reshape(1, 64, 64, 3)\n",
    "    batch_z = vae.encode(frame)\n",
    "    reconstruct = vae.decode(batch_z)\n",
    "    r_loss = reconstruct_loss(frame, reconstruct)\n",
    "    reconstruct_losses.append(r_loss)"
   ]
  },
  {
   "cell_type": "code",
   "execution_count": 48,
   "metadata": {},
   "outputs": [
    {
     "data": {
      "text/plain": [
       "18.313496"
      ]
     },
     "execution_count": 48,
     "metadata": {},
     "output_type": "execute_result"
    }
   ],
   "source": [
    "# Pretrained VAE tested on our test set \n",
    "np.mean(reconstruct_losses)"
   ]
  },
  {
   "cell_type": "code",
   "execution_count": 49,
   "metadata": {
    "collapsed": true
   },
   "outputs": [],
   "source": [
    "### Evaluating newly trained VAE model on reconstruction loss\n",
    "num_samples = 1000 # Evaluating on 1000 takes 3 seconds \n",
    "reconstruct_losses_new = []\n",
    "for i in range(num_samples):\n",
    "    frame = random.choice(obs).reshape(1, 64, 64, 3)\n",
    "    batch_z = vae_new.encode(frame)\n",
    "    reconstruct = vae.decode(batch_z)\n",
    "    r_loss = reconstruct_loss(frame, reconstruct)\n",
    "    reconstruct_losses_new.append(r_loss)"
   ]
  },
  {
   "cell_type": "code",
   "execution_count": 50,
   "metadata": {},
   "outputs": [
    {
     "data": {
      "text/plain": [
       "1242.8071"
      ]
     },
     "execution_count": 50,
     "metadata": {},
     "output_type": "execute_result"
    }
   ],
   "source": [
    "# Newly trained VAE tested on our test set \n",
    "np.mean(reconstruct_losses_new)"
   ]
  },
  {
   "cell_type": "code",
   "execution_count": null,
   "metadata": {
    "collapsed": true
   },
   "outputs": [],
   "source": []
  },
  {
   "cell_type": "code",
   "execution_count": null,
   "metadata": {
    "collapsed": true
   },
   "outputs": [],
   "source": []
  },
  {
   "cell_type": "code",
   "execution_count": null,
   "metadata": {
    "collapsed": true
   },
   "outputs": [],
   "source": []
  },
  {
   "cell_type": "code",
   "execution_count": null,
   "metadata": {
    "collapsed": true
   },
   "outputs": [],
   "source": []
  }
 ],
 "metadata": {
  "kernelspec": {
   "display_name": "Python 3",
   "language": "python",
   "name": "python3"
  },
  "language_info": {
   "codemirror_mode": {
    "name": "ipython",
    "version": 3
   },
   "file_extension": ".py",
   "mimetype": "text/x-python",
   "name": "python",
   "nbconvert_exporter": "python",
   "pygments_lexer": "ipython3",
   "version": "3.6.8"
  }
 },
 "nbformat": 4,
 "nbformat_minor": 2
}
